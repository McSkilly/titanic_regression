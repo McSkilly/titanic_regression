{
 "cells": [
  {
   "cell_type": "code",
   "execution_count": 1246,
   "metadata": {},
   "outputs": [
    {
     "data": {
      "text/plain": [
       "'\\n    File name: Titanic_Logistic_Regression\\n    Author: William Henschell\\n    Date created: 4/15/2019\\n    Date last modified: 4/18/2019\\n    Python Version: Python 3.7\\n    \\n    Creating a logistic regression model to predict whether or not a Titanic passenger survived\\n'"
      ]
     },
     "execution_count": 1246,
     "metadata": {},
     "output_type": "execute_result"
    }
   ],
   "source": [
    "'''\n",
    "    File name: Titanic_Logistic_Regression\n",
    "    Author: William Henschell\n",
    "    Date created: 4/15/2019\n",
    "    Date last modified: 4/18/2019\n",
    "    Python Version: Python 3.7\n",
    "    \n",
    "    MUST SET FILE PATH FOR DATA *Below Imports*\n",
    "    Creating a logistic regression model to predict whether or not a Titanic passenger survived\n",
    "'''"
   ]
  },
  {
   "cell_type": "code",
   "execution_count": 1247,
   "metadata": {},
   "outputs": [],
   "source": [
    "#Importing pandas, numpy, sklearn methods, pyplot from matplotlib, and seaborn\n",
    "import pandas as pd\n",
    "import numpy as np\n",
    "from tabulate import tabulate\n",
    "from sklearn import svm\n",
    "from sklearn.model_selection import train_test_split\n",
    "from sklearn.linear_model import LogisticRegression\n",
    "from sklearn.metrics import classification_report\n",
    "from sklearn.metrics import confusion_matrix\n",
    "from sklearn.metrics import accuracy_score\n",
    "from sklearn.metrics import precision_score\n",
    "from sklearn.metrics import recall_score\n",
    "from sklearn.metrics import f1_score\n",
    "import matplotlib.pyplot as plt\n",
    "plt.rc('font', size = 14)\n",
    "import seaborn as sns\n",
    "sns.set (style = 'white')\n",
    "sns.set (style = 'whitegrid', color_codes = True)\n",
    "from statsmodels.graphics.mosaicplot import mosaic"
   ]
  },
  {
   "cell_type": "code",
   "execution_count": 1248,
   "metadata": {},
   "outputs": [
    {
     "data": {
      "text/html": [
       "<div>\n",
       "<style scoped>\n",
       "    .dataframe tbody tr th:only-of-type {\n",
       "        vertical-align: middle;\n",
       "    }\n",
       "\n",
       "    .dataframe tbody tr th {\n",
       "        vertical-align: top;\n",
       "    }\n",
       "\n",
       "    .dataframe thead th {\n",
       "        text-align: right;\n",
       "    }\n",
       "</style>\n",
       "<table border=\"1\" class=\"dataframe\">\n",
       "  <thead>\n",
       "    <tr style=\"text-align: right;\">\n",
       "      <th></th>\n",
       "      <th>Name</th>\n",
       "      <th>Survived</th>\n",
       "      <th>Gender</th>\n",
       "      <th>Age</th>\n",
       "      <th>Traveling_Alone</th>\n",
       "      <th>Ticket_Fare(lbs)</th>\n",
       "    </tr>\n",
       "  </thead>\n",
       "  <tbody>\n",
       "    <tr>\n",
       "      <th>0</th>\n",
       "      <td>Allen, Miss. Elisabeth Walton</td>\n",
       "      <td>Yes</td>\n",
       "      <td>Female</td>\n",
       "      <td>29.0</td>\n",
       "      <td>Alone</td>\n",
       "      <td>211.3375</td>\n",
       "    </tr>\n",
       "    <tr>\n",
       "      <th>1</th>\n",
       "      <td>Allison, Master. Hudson Trevor</td>\n",
       "      <td>Yes</td>\n",
       "      <td>Male</td>\n",
       "      <td>0.0</td>\n",
       "      <td>Not_Alone</td>\n",
       "      <td>151.5500</td>\n",
       "    </tr>\n",
       "    <tr>\n",
       "      <th>2</th>\n",
       "      <td>Allison, Miss. Helen Loraine</td>\n",
       "      <td>No</td>\n",
       "      <td>Female</td>\n",
       "      <td>2.0</td>\n",
       "      <td>Not_Alone</td>\n",
       "      <td>151.5500</td>\n",
       "    </tr>\n",
       "    <tr>\n",
       "      <th>3</th>\n",
       "      <td>Allison, Mr. Hudson Joshua Creighton</td>\n",
       "      <td>No</td>\n",
       "      <td>Male</td>\n",
       "      <td>30.0</td>\n",
       "      <td>Not_Alone</td>\n",
       "      <td>151.5500</td>\n",
       "    </tr>\n",
       "    <tr>\n",
       "      <th>4</th>\n",
       "      <td>Allison, Mrs. Hudson J C (Bessie Waldo Daniels)</td>\n",
       "      <td>No</td>\n",
       "      <td>Female</td>\n",
       "      <td>25.0</td>\n",
       "      <td>Not_Alone</td>\n",
       "      <td>151.5500</td>\n",
       "    </tr>\n",
       "  </tbody>\n",
       "</table>\n",
       "</div>"
      ],
      "text/plain": [
       "                                              Name Survived  Gender   Age  \\\n",
       "0                    Allen, Miss. Elisabeth Walton      Yes  Female  29.0   \n",
       "1                   Allison, Master. Hudson Trevor      Yes    Male   0.0   \n",
       "2                     Allison, Miss. Helen Loraine       No  Female   2.0   \n",
       "3             Allison, Mr. Hudson Joshua Creighton       No    Male  30.0   \n",
       "4  Allison, Mrs. Hudson J C (Bessie Waldo Daniels)       No  Female  25.0   \n",
       "\n",
       "  Traveling_Alone  Ticket_Fare(lbs)  \n",
       "0           Alone          211.3375  \n",
       "1       Not_Alone          151.5500  \n",
       "2       Not_Alone          151.5500  \n",
       "3       Not_Alone          151.5500  \n",
       "4       Not_Alone          151.5500  "
      ]
     },
     "execution_count": 1248,
     "metadata": {},
     "output_type": "execute_result"
    }
   ],
   "source": [
    "#Reading in Titanic dataset and verifying data was read in properly\n",
    "titanic = pd.read_csv(r'C:\\Users\\Will\\Desktop\\Logistic_Python\\data\\Titanic.csv', header = 0)\n",
    "titanic.head()"
   ]
  },
  {
   "cell_type": "code",
   "execution_count": 1249,
   "metadata": {},
   "outputs": [
    {
     "name": "stdout",
     "output_type": "stream",
     "text": [
      "Name                1309\n",
      "Survived            1309\n",
      "Gender              1309\n",
      "Age                 1046\n",
      "Traveling_Alone     1309\n",
      "Ticket_Fare(lbs)    1304\n",
      "dtype: int64\n"
     ]
    }
   ],
   "source": [
    "#Checking to see that all rows have usable data\n",
    "print(titanic.count())"
   ]
  },
  {
   "cell_type": "code",
   "execution_count": 1250,
   "metadata": {},
   "outputs": [
    {
     "name": "stdout",
     "output_type": "stream",
     "text": [
      "Survived NA values: 0\n",
      "Gender NA values: 0\n",
      "Age NA values: 263\n",
      "Traveling_Alone NA values: 0\n",
      "Ticket_Fare NA values: 5\n"
     ]
    }
   ],
   "source": [
    "#Checking for NA values in the data (as the row counts by column are not all equal...)\n",
    "print('Survived NA values: ' + str(titanic['Survived'].isnull().sum()))\n",
    "print('Gender NA values: ' + str(titanic['Gender'].isnull().sum()))\n",
    "print('Age NA values: ' + str(titanic['Age'].isnull().sum()))\n",
    "print('Traveling_Alone NA values: ' + str(titanic['Traveling_Alone'].isnull().sum()))\n",
    "print('Ticket_Fare NA values: ' + str(titanic['Ticket_Fare(lbs)'].isnull().sum()))"
   ]
  },
  {
   "cell_type": "code",
   "execution_count": 1251,
   "metadata": {},
   "outputs": [
    {
     "name": "stdout",
     "output_type": "stream",
     "text": [
      "Age NA values: 0\n"
     ]
    }
   ],
   "source": [
    "#Too many NA values in Age to remove them, so replacing them with the median of the data\n",
    "titanic['Age'] = titanic['Age'].fillna(titanic['Age'].median())\n",
    "\n",
    "#Verifying\n",
    "print('Age NA values: ' + str(titanic['Age'].isnull().sum()))"
   ]
  },
  {
   "cell_type": "code",
   "execution_count": 1252,
   "metadata": {},
   "outputs": [
    {
     "data": {
      "text/html": [
       "<div>\n",
       "<style scoped>\n",
       "    .dataframe tbody tr th:only-of-type {\n",
       "        vertical-align: middle;\n",
       "    }\n",
       "\n",
       "    .dataframe tbody tr th {\n",
       "        vertical-align: top;\n",
       "    }\n",
       "\n",
       "    .dataframe thead th {\n",
       "        text-align: right;\n",
       "    }\n",
       "</style>\n",
       "<table border=\"1\" class=\"dataframe\">\n",
       "  <thead>\n",
       "    <tr style=\"text-align: right;\">\n",
       "      <th></th>\n",
       "      <th>Name</th>\n",
       "      <th>Survived</th>\n",
       "      <th>Gender</th>\n",
       "      <th>Age</th>\n",
       "      <th>Traveling_Alone</th>\n",
       "      <th>Ticket_Fare(lbs)</th>\n",
       "    </tr>\n",
       "  </thead>\n",
       "  <tbody>\n",
       "    <tr>\n",
       "      <th>49</th>\n",
       "      <td>Cardeza, Mr. Thomas Drake Martinez</td>\n",
       "      <td>Yes</td>\n",
       "      <td>Male</td>\n",
       "      <td>36.0</td>\n",
       "      <td>Not_Alone</td>\n",
       "      <td>NaN</td>\n",
       "    </tr>\n",
       "    <tr>\n",
       "      <th>50</th>\n",
       "      <td>Cardeza, Mrs. James Warburton Martinez (Charlo...</td>\n",
       "      <td>Yes</td>\n",
       "      <td>Female</td>\n",
       "      <td>58.0</td>\n",
       "      <td>Not_Alone</td>\n",
       "      <td>NaN</td>\n",
       "    </tr>\n",
       "    <tr>\n",
       "      <th>183</th>\n",
       "      <td>Lesurer, Mr. Gustave J</td>\n",
       "      <td>Yes</td>\n",
       "      <td>Male</td>\n",
       "      <td>35.0</td>\n",
       "      <td>Alone</td>\n",
       "      <td>NaN</td>\n",
       "    </tr>\n",
       "    <tr>\n",
       "      <th>302</th>\n",
       "      <td>Ward, Miss. Anna</td>\n",
       "      <td>Yes</td>\n",
       "      <td>Female</td>\n",
       "      <td>35.0</td>\n",
       "      <td>Alone</td>\n",
       "      <td>NaN</td>\n",
       "    </tr>\n",
       "    <tr>\n",
       "      <th>1225</th>\n",
       "      <td>Storey, Mr. Thomas</td>\n",
       "      <td>No</td>\n",
       "      <td>Male</td>\n",
       "      <td>60.5</td>\n",
       "      <td>Alone</td>\n",
       "      <td>NaN</td>\n",
       "    </tr>\n",
       "  </tbody>\n",
       "</table>\n",
       "</div>"
      ],
      "text/plain": [
       "                                                   Name Survived  Gender  \\\n",
       "49                   Cardeza, Mr. Thomas Drake Martinez      Yes    Male   \n",
       "50    Cardeza, Mrs. James Warburton Martinez (Charlo...      Yes  Female   \n",
       "183                              Lesurer, Mr. Gustave J      Yes    Male   \n",
       "302                                    Ward, Miss. Anna      Yes  Female   \n",
       "1225                                 Storey, Mr. Thomas       No    Male   \n",
       "\n",
       "       Age Traveling_Alone  Ticket_Fare(lbs)  \n",
       "49    36.0       Not_Alone               NaN  \n",
       "50    58.0       Not_Alone               NaN  \n",
       "183   35.0           Alone               NaN  \n",
       "302   35.0           Alone               NaN  \n",
       "1225  60.5           Alone               NaN  "
      ]
     },
     "execution_count": 1252,
     "metadata": {},
     "output_type": "execute_result"
    }
   ],
   "source": [
    "#Looking at remaining rows with NA values (Ticket Fare)\n",
    "titanic[titanic.isna().any(axis=1)]"
   ]
  },
  {
   "cell_type": "code",
   "execution_count": 1253,
   "metadata": {},
   "outputs": [],
   "source": [
    "#Remove NA values in Ticket_Fare because it's only 5 rows and we can not guess what they paid\n",
    "titanic = titanic.dropna()"
   ]
  },
  {
   "cell_type": "code",
   "execution_count": 1254,
   "metadata": {},
   "outputs": [
    {
     "name": "stdout",
     "output_type": "stream",
     "text": [
      "Name                1304\n",
      "Survived            1304\n",
      "Gender              1304\n",
      "Age                 1304\n",
      "Traveling_Alone     1304\n",
      "Ticket_Fare(lbs)    1304\n",
      "dtype: int64\n"
     ]
    }
   ],
   "source": [
    "#Rechecking to see that all rows have usable data\n",
    "print(titanic.count())"
   ]
  },
  {
   "cell_type": "code",
   "execution_count": 1255,
   "metadata": {},
   "outputs": [
    {
     "name": "stdout",
     "output_type": "stream",
     "text": [
      "Correlation of Ticket_Fare(lbs) and Age: 0.17936675372438093\n",
      "Correlation low enough between Age and Ticket_Fare to ignore any overlapping explanation of survival of a passenger\n"
     ]
    }
   ],
   "source": [
    "#Check correlation between continuous variables\n",
    "print('Correlation of Ticket_Fare(lbs) and Age: ' + str(titanic['Ticket_Fare(lbs)'].corr(titanic['Age'])))\n",
    "print('Correlation low enough between Age and Ticket_Fare to ignore any overlapping explanation of survival of a passenger')"
   ]
  },
  {
   "cell_type": "code",
   "execution_count": 1256,
   "metadata": {},
   "outputs": [
    {
     "name": "stderr",
     "output_type": "stream",
     "text": [
      "C:\\Users\\qf2830fp\\AppData\\Local\\Continuum\\anaconda3\\lib\\site-packages\\scipy\\stats\\stats.py:1713: FutureWarning: Using a non-tuple sequence for multidimensional indexing is deprecated; use `arr[tuple(seq)]` instead of `arr[seq]`. In the future this will be interpreted as an array index, `arr[np.array(seq)]`, which will result either in an error or a different result.\n",
      "  return np.add.reduce(sorted[indexer] * weights, axis=axis) / sumval\n"
     ]
    },
    {
     "data": {
      "image/png": "[encoded data removed]",
      "text/plain": [
       "<Figure size 432x288 with 1 Axes>"
      ]
     },
     "metadata": {},
     "output_type": "display_data"
    },
    {
     "name": "stdout",
     "output_type": "stream",
     "text": [
      "Heavily right skewed\n"
     ]
    }
   ],
   "source": [
    "#Looking at distribution of Ticket_Fare\n",
    "sns.distplot(titanic['Ticket_Fare(lbs)']).set_title('Distribution of Ticket_Fare(lbs)')\n",
    "plt.show()\n",
    "print('Heavily right skewed')"
   ]
  },
  {
   "cell_type": "code",
   "execution_count": 1257,
   "metadata": {},
   "outputs": [
    {
     "data": {
      "image/png": "[encoded data removed]",
      "text/plain": [
       "<Figure size 432x288 with 1 Axes>"
      ]
     },
     "metadata": {},
     "output_type": "display_data"
    },
    {
     "name": "stdout",
     "output_type": "stream",
     "text": [
      "Looks like a fairly normal distribution except for the artificial leptokurtosis from adding median values\n"
     ]
    }
   ],
   "source": [
    "#Looking at distribution for Age variable\n",
    "sns.distplot(titanic['Age']).set_title('Distribution of Age')\n",
    "plt.show()\n",
    "print('Looks like a fairly normal distribution except for the artificial leptokurtosis from adding median values')"
   ]
  },
  {
   "cell_type": "code",
   "execution_count": 1258,
   "metadata": {},
   "outputs": [
    {
     "data": {
      "image/png": "[encoded data removed]",
      "text/plain": [
       "<Figure size 432x288 with 1 Axes>"
      ]
     },
     "metadata": {},
     "output_type": "display_data"
    },
    {
     "name": "stdout",
     "output_type": "stream",
     "text": [
      "+----+------------+---------+----------+\n",
      "|    | Survived   |   Count |     Prob |\n",
      "|----+------------+---------+----------|\n",
      "|  0 | Yes        |     496 | 0.380368 |\n",
      "|  1 | No         |     808 | 0.619632 |\n",
      "|  2 | Total      |    1304 | 1        |\n",
      "+----+------------+---------+----------+\n",
      "\n",
      "Odds for Surviving: 0.38 / 0.62 = 0.614\n",
      "Odds for Not Surviving: 0.62 / 0.38 = 1.629\n",
      "\n",
      "Here we can see that passengers were 1.63 times more likely to not survive than to survive.\n"
     ]
    }
   ],
   "source": [
    "#Look at distribution of Survivors and Non-Survivors to see what's going on with the data\n",
    "sns.countplot(data = titanic, x='Survived', color = 'b').set_title('Counts of Survived')\n",
    "plt.show()\n",
    "\n",
    "#Create count summary for Survived column\n",
    "survived_count = titanic.groupby('Survived')['Name'].count()\n",
    "survived_count = survived_count.to_frame().reset_index() #Converting from a Series object to a data frame\n",
    "survived_count = survived_count.rename(columns={'Name': 'Count'}).sort_values(by = 'Survived', ascending = False) #Sorting data to more easily follow visual\n",
    "\n",
    "#Create probability of event for survived column\n",
    "survived_probs = titanic.groupby('Survived').size().div(len(titanic))\n",
    "survived_probs = survived_probs.to_frame().reset_index()\n",
    "survived_probs = survived_probs.rename(columns={0: 'Prob'})\n",
    "\n",
    "#Add the probability to the count data frame for a summary frame\n",
    "survived_count['Prob']= survived_probs['Prob']\n",
    "\n",
    "#Add a Totals row to the summary table and rename varaible to survived_summary\n",
    "total_survived = survived_count.apply(np.sum)\n",
    "total_survived['Survived'] = 'Total'\n",
    "survived_summary = survived_count.append(pd.DataFrame(total_survived.values, index=total_survived.keys()).T, ignore_index=True)\n",
    "\n",
    "#Prints a more organized version of the data frame\n",
    "print(tabulate(survived_summary, headers='keys', tablefmt='psql'))\n",
    "\n",
    "#Defining probability variables from the aggregation frame\n",
    "prob_survived = survived_summary['Prob'][0]\n",
    "prob_no_survived = survived_summary['Prob'][1]\n",
    "\n",
    "#Defining odds variables form the probability variables\n",
    "odds_survived = (prob_survived / prob_no_survived)\n",
    "odds_no_survived = (prob_no_survived / prob_survived)\n",
    "\n",
    "#Displaying the odds of Survived\n",
    "print('\\nOdds for Surviving: ' + str(round(prob_survived, 3)) + ' / ' +  str(round(prob_no_survived, 3)) + ' = '+ str(round(odds_survived, 3)))\n",
    "#Displaying the odds of Not Survived\n",
    "print('Odds for Not Surviving: ' + str(round(prob_no_survived, 3)) + ' / ' + str(round(prob_survived, 3)) + ' = ' + str(round(odds_no_survived, 3)))\n",
    "\n",
    "#Printing a summary of the results\n",
    "print('\\nHere we can see that passengers were ' + str(round(odds_no_survived, 2)) + ' times more likely to not survive than to survive.')"
   ]
  },
  {
   "cell_type": "code",
   "execution_count": 1259,
   "metadata": {},
   "outputs": [
    {
     "data": {
      "image/png": "[encoded data removed]",
      "text/plain": [
       "<Figure size 432x288 with 3 Axes>"
      ]
     },
     "metadata": {},
     "output_type": "display_data"
    },
    {
     "name": "stdout",
     "output_type": "stream",
     "text": [
      "+----+----------+------------+---------+---------------+----------+\n",
      "|    | Gender   | Survived   |   Count |   Total_Count |     Prob |\n",
      "|----+----------+------------+---------+---------------+----------|\n",
      "|  0 | Female   | No         |     127 |           464 | 0.273707 |\n",
      "|  1 | Female   | Yes        |     337 |           464 | 0.726293 |\n",
      "|  2 | Male     | No         |     681 |           840 | 0.810714 |\n",
      "|  3 | Male     | Yes        |     159 |           840 | 0.189286 |\n",
      "+----+----------+------------+---------+---------------+----------+\n",
      "\n",
      "Risk Ratio for Males: 0.811 / 0.274 = 2.962\n",
      "This risk ratio tells us that males are 2.96 times more likely to not survive than females.\n",
      "\n",
      "Relative Benefit for Females: 0.726 / 0.189 = 3.837\n",
      "This relative benefit tells us that females are 3.84 times more likely to survive than males.\n",
      "\n",
      "Odds of Female Survived: 0.726 / 0.274 = 2.654\n",
      "Odds of Male Survived: 0.189 / 0.811 = 0.233\n",
      "\n",
      "Odds Ratio for Female Survival vs. Male Survival: 2.654 / 0.233 = 11.365\n",
      "This odds ratio tells us that female passengers have 11.37 times higher odds for survival than male passengers.\n"
     ]
    }
   ],
   "source": [
    "#Survived by Gender mosaic plot and summary\n",
    "sbg_props = lambda key: {'color': 'b' if 'No' in key else 'r'} #Coloring by Yes or No\n",
    "mosaic(titanic, ['Gender', 'Survived'], gap = 0.01, properties = sbg_props, title = 'Number Survived by Gender - Mosaic')\n",
    "plt.show()\n",
    "\n",
    "#Create count summary for Survived by Gender\n",
    "survived_by_gender_summary = titanic.groupby(['Gender', 'Survived'])['Name'].count()\n",
    "survived_by_gender_summary = survived_by_gender_summary.to_frame().reset_index() #Converting from a Series object to a data frame\n",
    "survived_by_gender_summary = survived_by_gender_summary.rename(columns={'Name': 'Count'})\n",
    "\n",
    "#Add totals of the counts by the gender of the person\n",
    "survived_by_gender_summary.loc[survived_by_gender_summary['Gender'] == 'Female', 'Total_Count'] = survived_by_gender_summary.groupby('Gender')['Count'].sum()[0]\n",
    "survived_by_gender_summary.loc[survived_by_gender_summary['Gender'] == 'Male', 'Total_Count'] = survived_by_gender_summary.groupby('Gender')['Count'].sum()[1]\n",
    "\n",
    "#Add probabilites of survival by gender\n",
    "survived_by_gender_summary['Prob'] = (survived_by_gender_summary['Count']/survived_by_gender_summary['Total_Count'])\n",
    "\n",
    "\n",
    "#Printing survival by gender summary data frame in a more readable format\n",
    "print(tabulate(survived_by_gender_summary, headers='keys', tablefmt='psql'))\n",
    "\n",
    "#Defining probability variables\n",
    "prob_female_no_survived = survived_by_gender_summary['Prob'][0]\n",
    "prob_female_survived = survived_by_gender_summary['Prob'][1]\n",
    "prob_male_no_survived = survived_by_gender_summary['Prob'][2]\n",
    "prob_male_survived = survived_by_gender_summary['Prob'][3]\n",
    "\n",
    "#Defining risk ratio and relative benefit for passengers by gender\n",
    "rr_male = (prob_male_no_survived / prob_female_no_survived)\n",
    "rb_female = (prob_female_survived / prob_male_survived)\n",
    "\n",
    "#Defining odds and odds ratio for survival by gender\n",
    "odds_male_survived = (prob_male_survived / prob_male_no_survived)\n",
    "odds_female_survived = (prob_female_survived / prob_female_no_survived)\n",
    "or_male = (odds_male_survived / odds_female_survived)\n",
    "or_female = (odds_female_survived / odds_male_survived)\n",
    "\n",
    "#Printing the risk ratio for male passengers (the risk being not survivng)\n",
    "print('\\nRisk Ratio for Males: ' + str(round(prob_male_no_survived, 3)) + ' / ' + str(round(prob_female_no_survived, 3)) + ' = ' + str(round(rr_male, 3)))\n",
    "print('This risk ratio tells us that males are ' + str(round(rr_male, 2)) + ' times more likely to not survive than females.')\n",
    "\n",
    "#Printing the relative benefit for female passengers (the benefit being survivng)\n",
    "print('\\nRelative Benefit for Females: ' + str(round(prob_female_survived, 3)) + ' / ' + str(round(prob_male_survived, 3)) + ' = ' + str(round(rb_female, 3)))\n",
    "print('This relative benefit tells us that females are ' + str(round(rb_female, 2)) + ' times more likely to survive than males.')\n",
    "\n",
    "#Printing the odds and odds ratio for females that survived compared to males that survived\n",
    "print('\\nOdds of Female Survived: ' + str(round(prob_female_survived, 3)) + ' / ' + str(round(prob_female_no_survived, 3)) + ' = ' + str(round(odds_female_survived, 3)))\n",
    "print('Odds of Male Survived: ' + str(round(prob_male_survived, 3)) + ' / ' + str(round(prob_male_no_survived, 3)) + ' = ' + str(round(odds_male_survived, 3)))\n",
    "print('\\nOdds Ratio for Female Survival vs. Male Survival: ' + str(round(odds_female_survived, 3)) + ' / ' + str(round(odds_male_survived, 3)) + ' = ' + str(round(or_female, 3)))\n",
    "print('This odds ratio tells us that female passengers have ' + str(round(or_female, 2)) + ' times higher odds for survival than male passengers.')"
   ]
  },
  {
   "cell_type": "code",
   "execution_count": 1260,
   "metadata": {},
   "outputs": [
    {
     "data": {
      "image/png": "[encoded data removed]",
      "text/plain": [
       "<Figure size 432x288 with 3 Axes>"
      ]
     },
     "metadata": {},
     "output_type": "display_data"
    },
    {
     "name": "stdout",
     "output_type": "stream",
     "text": [
      "+----+-------------------+------------+---------+---------------+----------+\n",
      "|    | Traveling_Alone   | Survived   |   Count |   Total_Count |     Prob |\n",
      "|----+-------------------+------------+---------+---------------+----------|\n",
      "|  0 | Alone             | No         |     550 |           787 | 0.698856 |\n",
      "|  1 | Alone             | Yes        |     237 |           787 | 0.301144 |\n",
      "|  2 | Not_Alone         | No         |     258 |           517 | 0.499033 |\n",
      "|  3 | Not_Alone         | Yes        |     259 |           517 | 0.500967 |\n",
      "+----+-------------------+------------+---------+---------------+----------+\n",
      "\n",
      "Risk Ratio for Traveling Alone: 0.699 / 0.499 = 1.4\n",
      "This risk ratio tells us that a passenger is 1.4 times more likely to not survive if they are traveling alone as opposed to traveling with someone.\n",
      "\n",
      "Relative Benefit for Traveling with Someone: 0.501 / 0.301 = 1.664\n",
      "This relative benefit tells us that a passenger is  1.66 times more likely to survive if they are traveling with someone as opposed to traveling alone.\n",
      "\n",
      "Odds of Surival for a Passenger Traveling with Someone: 0.501 / 0.499 = 1.004\n",
      "Odds of Survival for a Passenger Traveling Alone: 0.301 / 0.699 = 0.431\n",
      "\n",
      "Odds Ratio for Survival of a Passenger Traveling with Someone: 1.004 / 0.431 = 2.33\n",
      "This odds ratio tells us that passengers who traveled with someone have 2.33 times higher odds of survival than passengers who traveled alone.\n"
     ]
    }
   ],
   "source": [
    "#Survived by Traveling Alone mosaic plot and summary\n",
    "sbta_props = lambda key: {'color': 'b' if 'No' in key else 'r'} #Coloring by Yes or No\n",
    "mosaic(titanic, ['Traveling_Alone', 'Survived'], gap = 0.01, properties = sbta_props, title = 'Number Survived by Traveling Alone - Mosaic')\n",
    "plt.show()\n",
    "\n",
    "#Create count summary for Survived by Traveling Alone\n",
    "survived_by_ta_summary = titanic.groupby(['Traveling_Alone', 'Survived'])['Name'].count()\n",
    "survived_by_ta_summary = survived_by_ta_summary.to_frame().reset_index() #Converting from a Series object to a data frame\n",
    "survived_by_ta_summary = survived_by_ta_summary.rename(columns={'Name': 'Count'})\n",
    "\n",
    "#Add totals of the counts and probabilities by the traveling status of the person\n",
    "survived_by_ta_summary.loc[survived_by_ta_summary['Traveling_Alone'] == 'Alone', 'Total_Count'] = survived_by_ta_summary.groupby('Traveling_Alone')['Count'].sum()[0]\n",
    "survived_by_ta_summary.loc[survived_by_ta_summary['Traveling_Alone'] == 'Not_Alone', 'Total_Count'] = survived_by_ta_summary.groupby('Traveling_Alone')['Count'].sum()[1]\n",
    "\n",
    "#Add probabilites of survival by traveling alone status\n",
    "survived_by_ta_summary['Prob'] = (survived_by_ta_summary['Count']/survived_by_ta_summary['Total_Count'])\n",
    "\n",
    "#Printing survival by gender summary data frame in a more readable format\n",
    "print(tabulate(survived_by_ta_summary, headers='keys', tablefmt='psql'))\n",
    "\n",
    "#Defining probability variables\n",
    "prob_alone_no_survived = survived_by_ta_summary['Prob'][0]\n",
    "prob_alone_survived = survived_by_ta_summary['Prob'][1]\n",
    "prob_not_alone_no_survived = survived_by_ta_summary['Prob'][2]\n",
    "prob_not_alone_survived = survived_by_ta_summary['Prob'][3]\n",
    "\n",
    "#Defining risk ratio and relative benefit for passengers that traveled alone and not alone\n",
    "rr_alone = (prob_alone_no_survived / prob_not_alone_no_survived)\n",
    "rb_not_alone = (prob_not_alone_survived / prob_alone_survived)\n",
    "\n",
    "#Defining odds and odds ratio for survival by gender\n",
    "odds_alone_survived = (prob_alone_survived / prob_alone_no_survived)\n",
    "odds_not_alone_survived = (prob_not_alone_survived / prob_not_alone_no_survived)\n",
    "or_alone = (odds_alone_survived / odds_not_alone_survived)\n",
    "or_not_alone = (odds_not_alone_survived / odds_alone_survived)\n",
    "\n",
    "#Printing the risk ratio for traveling alone (the risk being not survivng)\n",
    "print('\\nRisk Ratio for Traveling Alone: ' + str(round(prob_alone_no_survived, 3)) + ' / ' + str(round(prob_not_alone_no_survived, 3)) + ' = ' + str(round(rr_alone, 3)))\n",
    "print('This risk ratio tells us that a passenger is ' + str(round(rr_alone, 2)) + ' times more likely to not survive if they are traveling alone as opposed to traveling with someone.')\n",
    "\n",
    "#Printing the relative benefit for not traveling alone (the benefit being survivng)\n",
    "print('\\nRelative Benefit for Traveling with Someone: ' + str(round(prob_not_alone_survived, 3)) + ' / ' + str(round(prob_alone_survived, 3)) + ' = ' + str(round(rb_not_alone, 3)))\n",
    "print('This relative benefit tells us that a passenger is  ' + str(round(rb_not_alone, 2)) + ' times more likely to survive if they are traveling with someone as opposed to traveling alone.')\n",
    "\n",
    "#Printing the odds and odds ratio for passengers that traveled with someone compared to passengers that traveled alone\n",
    "print('\\nOdds of Surival for a Passenger Traveling with Someone: ' + str(round(prob_not_alone_survived, 3)) + ' / ' + str(round(prob_not_alone_no_survived, 3)) + ' = ' + str(round(odds_not_alone_survived, 3)))\n",
    "print('Odds of Survival for a Passenger Traveling Alone: ' + str(round(prob_alone_survived, 3)) + ' / ' + str(round(prob_alone_no_survived, 3)) + ' = ' + str(round(odds_alone_survived, 3)))\n",
    "print('\\nOdds Ratio for Survival of a Passenger Traveling with Someone: ' + str(round(odds_not_alone_survived, 3)) + ' / ' + str(round(odds_alone_survived, 3)) + ' = ' + str(round(or_not_alone, 3)))\n",
    "print('This odds ratio tells us that passengers who traveled with someone have ' + str(round(or_not_alone, 2)) + ' times higher odds of survival than passengers who traveled alone.')"
   ]
  },
  {
   "cell_type": "code",
   "execution_count": 1261,
   "metadata": {},
   "outputs": [
    {
     "name": "stdout",
     "output_type": "stream",
     "text": [
      "From the two mosaic plots and summaries, it is apparent that Gender is a much better classifying variavle for survival \n",
      "than traveling status because it has a higher odds ratio (meaning that the classifying variable has a larger \n",
      "distinction between the two genders)\n"
     ]
    }
   ],
   "source": [
    "#Explaining the findings from the two mosaic plots\n",
    "print('From the two mosaic plots and summaries, it is apparent that Gender is a much better classifying variavle for survival \\nthan traveling status because it has a higher odds ratio (meaning that the classifying variable has a larger \\ndistinction between the two genders)')"
   ]
  },
  {
   "cell_type": "code",
   "execution_count": 1262,
   "metadata": {},
   "outputs": [
    {
     "data": {
      "image/png": "[encoded data removed]",
      "text/plain": [
       "<Figure size 432x288 with 1 Axes>"
      ]
     },
     "metadata": {},
     "output_type": "display_data"
    },
    {
     "name": "stdout",
     "output_type": "stream",
     "text": [
      "There appears to be more people that survived who paid a higher ticket price, \n",
      "and more passengers that did not survive who paid lower ticket fares\n"
     ]
    }
   ],
   "source": [
    "#Creating a jitterplot to visualize survival by ticket fare\n",
    "sns.stripplot(titanic['Ticket_Fare(lbs)'],titanic['Survived'], color= \"b\", size = 3, alpha = .3).set_title('Survival by Ticket_Fare')\n",
    "plt.show()\n",
    "print('There appears to be more people that survived who paid a higher ticket price, \\nand more passengers that did not survive who paid lower ticket fares')"
   ]
  },
  {
   "cell_type": "code",
   "execution_count": 1263,
   "metadata": {},
   "outputs": [
    {
     "data": {
      "image/png": "[encoded data removed]",
      "text/plain": [
       "<Figure size 432x288 with 1 Axes>"
      ]
     },
     "metadata": {},
     "output_type": "display_data"
    },
    {
     "name": "stdout",
     "output_type": "stream",
     "text": [
      "It is not as apparent if Age is a good indicator of survival but it does seem \n",
      "that the elderly were more likely to have not survived\n"
     ]
    }
   ],
   "source": [
    "#Creating a jitterplot to visualize survival by age\n",
    "sns.stripplot(titanic['Age'],titanic['Survived'], color= \"b\", size = 3, alpha = .3).set_title('Survival by Age')\n",
    "plt.show()\n",
    "print('It is not as apparent if Age is a good indicator of survival but it does seem \\nthat the elderly were more likely to have not survived')"
   ]
  },
  {
   "cell_type": "code",
   "execution_count": 1264,
   "metadata": {},
   "outputs": [],
   "source": [
    "#Changing character-categorical variables into numeric-categorical variables\n",
    "\n",
    "#Survived\n",
    "d_survived = {'No':0, 'Yes':1}\n",
    "titanic['Survived_Y']=titanic['Survived'].apply(lambda x:d_survived[x])\n",
    "\n",
    "#Gender\n",
    "d_gender = {'Male':0, 'Female':1}\n",
    "titanic['Female']=titanic['Gender'].apply(lambda x:d_gender[x])\n",
    "\n",
    "#Traveling_Alone\n",
    "d_traveling_alone = {'Not_Alone':0, 'Alone':1}\n",
    "titanic['Alone']=titanic['Traveling_Alone'].apply(lambda x:d_traveling_alone[x])"
   ]
  },
  {
   "cell_type": "code",
   "execution_count": 1265,
   "metadata": {},
   "outputs": [
    {
     "data": {
      "text/html": [
       "<div>\n",
       "<style scoped>\n",
       "    .dataframe tbody tr th:only-of-type {\n",
       "        vertical-align: middle;\n",
       "    }\n",
       "\n",
       "    .dataframe tbody tr th {\n",
       "        vertical-align: top;\n",
       "    }\n",
       "\n",
       "    .dataframe thead th {\n",
       "        text-align: right;\n",
       "    }\n",
       "</style>\n",
       "<table border=\"1\" class=\"dataframe\">\n",
       "  <thead>\n",
       "    <tr style=\"text-align: right;\">\n",
       "      <th></th>\n",
       "      <th>Name</th>\n",
       "      <th>Survived</th>\n",
       "      <th>Gender</th>\n",
       "      <th>Age</th>\n",
       "      <th>Traveling_Alone</th>\n",
       "      <th>Ticket_Fare(lbs)</th>\n",
       "      <th>Survived_Y</th>\n",
       "      <th>Female</th>\n",
       "      <th>Alone</th>\n",
       "    </tr>\n",
       "  </thead>\n",
       "  <tbody>\n",
       "    <tr>\n",
       "      <th>0</th>\n",
       "      <td>Allen, Miss. Elisabeth Walton</td>\n",
       "      <td>Yes</td>\n",
       "      <td>Female</td>\n",
       "      <td>29.0</td>\n",
       "      <td>Alone</td>\n",
       "      <td>211.3375</td>\n",
       "      <td>1</td>\n",
       "      <td>1</td>\n",
       "      <td>1</td>\n",
       "    </tr>\n",
       "    <tr>\n",
       "      <th>1</th>\n",
       "      <td>Allison, Master. Hudson Trevor</td>\n",
       "      <td>Yes</td>\n",
       "      <td>Male</td>\n",
       "      <td>0.0</td>\n",
       "      <td>Not_Alone</td>\n",
       "      <td>151.5500</td>\n",
       "      <td>1</td>\n",
       "      <td>0</td>\n",
       "      <td>0</td>\n",
       "    </tr>\n",
       "    <tr>\n",
       "      <th>2</th>\n",
       "      <td>Allison, Miss. Helen Loraine</td>\n",
       "      <td>No</td>\n",
       "      <td>Female</td>\n",
       "      <td>2.0</td>\n",
       "      <td>Not_Alone</td>\n",
       "      <td>151.5500</td>\n",
       "      <td>0</td>\n",
       "      <td>1</td>\n",
       "      <td>0</td>\n",
       "    </tr>\n",
       "    <tr>\n",
       "      <th>3</th>\n",
       "      <td>Allison, Mr. Hudson Joshua Creighton</td>\n",
       "      <td>No</td>\n",
       "      <td>Male</td>\n",
       "      <td>30.0</td>\n",
       "      <td>Not_Alone</td>\n",
       "      <td>151.5500</td>\n",
       "      <td>0</td>\n",
       "      <td>0</td>\n",
       "      <td>0</td>\n",
       "    </tr>\n",
       "    <tr>\n",
       "      <th>4</th>\n",
       "      <td>Allison, Mrs. Hudson J C (Bessie Waldo Daniels)</td>\n",
       "      <td>No</td>\n",
       "      <td>Female</td>\n",
       "      <td>25.0</td>\n",
       "      <td>Not_Alone</td>\n",
       "      <td>151.5500</td>\n",
       "      <td>0</td>\n",
       "      <td>1</td>\n",
       "      <td>0</td>\n",
       "    </tr>\n",
       "  </tbody>\n",
       "</table>\n",
       "</div>"
      ],
      "text/plain": [
       "                                              Name Survived  Gender   Age  \\\n",
       "0                    Allen, Miss. Elisabeth Walton      Yes  Female  29.0   \n",
       "1                   Allison, Master. Hudson Trevor      Yes    Male   0.0   \n",
       "2                     Allison, Miss. Helen Loraine       No  Female   2.0   \n",
       "3             Allison, Mr. Hudson Joshua Creighton       No    Male  30.0   \n",
       "4  Allison, Mrs. Hudson J C (Bessie Waldo Daniels)       No  Female  25.0   \n",
       "\n",
       "  Traveling_Alone  Ticket_Fare(lbs)  Survived_Y  Female  Alone  \n",
       "0           Alone          211.3375           1       1      1  \n",
       "1       Not_Alone          151.5500           1       0      0  \n",
       "2       Not_Alone          151.5500           0       1      0  \n",
       "3       Not_Alone          151.5500           0       0      0  \n",
       "4       Not_Alone          151.5500           0       1      0  "
      ]
     },
     "execution_count": 1265,
     "metadata": {},
     "output_type": "execute_result"
    }
   ],
   "source": [
    "#Verifying that character-categorical variables are now numeric-categorical variables\n",
    "titanic.head()"
   ]
  },
  {
   "cell_type": "code",
   "execution_count": 1266,
   "metadata": {},
   "outputs": [],
   "source": [
    "#Setting the target column (if a passenger survived or not)\n",
    "response_column_names = ['Survived_Y']"
   ]
  },
  {
   "cell_type": "code",
   "execution_count": 1267,
   "metadata": {},
   "outputs": [],
   "source": [
    "#Does ticket_fare alone do a good job of classifying survival?\n",
    "classifying_column_names = ['Ticket_Fare(lbs)']"
   ]
  },
  {
   "cell_type": "code",
   "execution_count": 1268,
   "metadata": {},
   "outputs": [],
   "source": [
    "#Separating the variables within the dataset\n",
    "Y = titanic[response_column_names]\n",
    "X = titanic[classifying_column_names]"
   ]
  },
  {
   "cell_type": "code",
   "execution_count": 1269,
   "metadata": {},
   "outputs": [
    {
     "name": "stdout",
     "output_type": "stream",
     "text": [
      "Y Counts\n",
      "Survived_Y    1304\n",
      "dtype: int64\n",
      "\n",
      "X Counts\n",
      "Ticket_Fare(lbs)    1304\n",
      "dtype: int64\n"
     ]
    }
   ],
   "source": [
    "#Verifying that data still has no null values (and no new rows)\n",
    "print('Y Counts\\n' + str(Y.count()) + '\\n' + '\\n' + 'X Counts' + '\\n' + str(X.count()))"
   ]
  },
  {
   "cell_type": "code",
   "execution_count": 1270,
   "metadata": {},
   "outputs": [],
   "source": [
    "#Creating the testing and training sets for the data\n",
    "X_train, X_test, Y_train, Y_test = train_test_split(X,Y,test_size = 0.3, random_state=5)"
   ]
  },
  {
   "cell_type": "code",
   "execution_count": 1271,
   "metadata": {},
   "outputs": [
    {
     "data": {
      "text/plain": [
       "LogisticRegression(C=1.0, class_weight=None, dual=False, fit_intercept=True,\n",
       "          intercept_scaling=1, max_iter=100, multi_class='warn',\n",
       "          n_jobs=None, penalty='l2', random_state=None, solver='liblinear',\n",
       "          tol=0.0001, verbose=0, warm_start=False)"
      ]
     },
     "execution_count": 1271,
     "metadata": {},
     "output_type": "execute_result"
    }
   ],
   "source": [
    "#Creating the first logistic model\n",
    "logmod1 = LogisticRegression(solver='liblinear')\n",
    "logmod1.fit(X_train, Y_train.values.ravel())"
   ]
  },
  {
   "cell_type": "code",
   "execution_count": 1272,
   "metadata": {},
   "outputs": [],
   "source": [
    "#Making predictions with the first logistic model\n",
    "logmod1_predictions = logmod1.predict(X_test)"
   ]
  },
  {
   "cell_type": "code",
   "execution_count": 1273,
   "metadata": {},
   "outputs": [
    {
     "name": "stdout",
     "output_type": "stream",
     "text": [
      "              precision    recall  f1-score   support\n",
      "\n",
      "           0       0.71      0.97      0.82       256\n",
      "           1       0.83      0.25      0.38       136\n",
      "\n",
      "   micro avg       0.72      0.72      0.72       392\n",
      "   macro avg       0.77      0.61      0.60       392\n",
      "weighted avg       0.75      0.72      0.67       392\n",
      "\n"
     ]
    }
   ],
   "source": [
    "#Looking at the classification report for logistic model 1\n",
    "print(classification_report(Y_test, logmod1_predictions))"
   ]
  },
  {
   "cell_type": "code",
   "execution_count": 1274,
   "metadata": {},
   "outputs": [
    {
     "name": "stdout",
     "output_type": "stream",
     "text": [
      "[[249   7]\n",
      " [102  34]]\n"
     ]
    }
   ],
   "source": [
    "#Looking at the confusion matrix for logistic model 1\n",
    "print(confusion_matrix(Y_test, logmod1_predictions))"
   ]
  },
  {
   "cell_type": "code",
   "execution_count": 1275,
   "metadata": {},
   "outputs": [],
   "source": [
    "#Setting the scores for the first model\n",
    "logmod1_as = accuracy_score(Y_test, logmod1_predictions)\n",
    "logmod1_ps = precision_score(Y_test, logmod1_predictions, average = 'weighted')\n",
    "logmod1_rs = recall_score(Y_test, logmod1_predictions, average = 'weighted')\n",
    "logmod1_f1s = f1_score(Y_test, logmod1_predictions, average = 'weighted')"
   ]
  },
  {
   "cell_type": "code",
   "execution_count": 1276,
   "metadata": {},
   "outputs": [
    {
     "name": "stdout",
     "output_type": "stream",
     "text": [
      "Model 1 Accuracy Score: 0.7219\n",
      "Model 1 Precision Score: 0.751\n",
      "Model 1 Recall Score: 0.7219\n",
      "Model 1 F-1 Score: 0.6691\n"
     ]
    }
   ],
   "source": [
    "#Printing the scores for the first model\n",
    "print('Model 1 Accuracy Score: ' + str(round(logmod1_as, 4)))\n",
    "print('Model 1 Precision Score: ' + str(round(logmod1_ps, 4)))\n",
    "print('Model 1 Recall Score: ' + str(round(logmod1_rs, 4)))\n",
    "print('Model 1 F-1 Score: ' + str(round(logmod1_f1s, 4)))"
   ]
  },
  {
   "cell_type": "code",
   "execution_count": 1277,
   "metadata": {},
   "outputs": [
    {
     "data": {
      "text/plain": [
       "LogisticRegression(C=1.0, class_weight=None, dual=False, fit_intercept=True,\n",
       "          intercept_scaling=1, max_iter=100, multi_class='warn',\n",
       "          n_jobs=None, penalty='l2', random_state=None, solver='liblinear',\n",
       "          tol=0.0001, verbose=0, warm_start=False)"
      ]
     },
     "execution_count": 1277,
     "metadata": {},
     "output_type": "execute_result"
    }
   ],
   "source": [
    "#Adding Female column to the model to see if this improves the model\n",
    "classifying_column_names = ['Ticket_Fare(lbs)','Female']\n",
    "\n",
    "#re-creating the Ys and Xs for the machine learning model, and recreating the test and training sets\n",
    "Y = titanic[response_column_names]\n",
    "X = titanic[classifying_column_names]\n",
    "X_train, X_test, Y_train, Y_test = train_test_split(X,Y,test_size = 0.3, random_state=5)\n",
    "\n",
    "#Creating the logistic model using Female and Ticket_Fare(lbs)\n",
    "logmod2 = LogisticRegression(solver='liblinear')\n",
    "logmod2.fit(X_train, Y_train.values.ravel())"
   ]
  },
  {
   "cell_type": "code",
   "execution_count": 1278,
   "metadata": {},
   "outputs": [],
   "source": [
    "#Making predictions with the log(Ticket_Fare) logistic model\n",
    "logmod2_predictions = logmod2.predict(X_test)"
   ]
  },
  {
   "cell_type": "code",
   "execution_count": 1279,
   "metadata": {},
   "outputs": [
    {
     "name": "stdout",
     "output_type": "stream",
     "text": [
      "Classification Report: \n",
      "              precision    recall  f1-score   support\n",
      "\n",
      "           0       0.83      0.82      0.83       256\n",
      "           1       0.67      0.68      0.68       136\n",
      "\n",
      "   micro avg       0.77      0.77      0.77       392\n",
      "   macro avg       0.75      0.75      0.75       392\n",
      "weighted avg       0.77      0.77      0.77       392\n",
      "\n",
      "\n",
      "Confusion Matrix: \n",
      "[[210  46]\n",
      " [ 43  93]]\n",
      "\n",
      "Accuracy Score: \n",
      "0.7729591836734694\n"
     ]
    }
   ],
   "source": [
    "#Printing classification report for second model\n",
    "print('Classification Report: ')\n",
    "print(classification_report(Y_test, logmod2_predictions))\n",
    "\n",
    "#Printing confusion matrix for second model\n",
    "print('\\nConfusion Matrix: ')\n",
    "print(confusion_matrix(Y_test, logmod2_predictions))\n",
    "\n",
    "#Printing the accuracy score for the second model\n",
    "print('\\nAccuracy Score: ')\n",
    "print(accuracy_score(Y_test, logmod2_predictions))"
   ]
  },
  {
   "cell_type": "code",
   "execution_count": 1280,
   "metadata": {},
   "outputs": [],
   "source": [
    "#Setting the scores for the first model\n",
    "logmod2_as = accuracy_score(Y_test, logmod2_predictions)\n",
    "logmod2_ps = precision_score(Y_test, logmod2_predictions, average = 'weighted')\n",
    "logmod2_rs = recall_score(Y_test, logmod2_predictions, average = 'weighted')\n",
    "logmod2_f1s = f1_score(Y_test, logmod2_predictions, average = 'weighted')"
   ]
  },
  {
   "cell_type": "code",
   "execution_count": 1281,
   "metadata": {},
   "outputs": [
    {
     "name": "stdout",
     "output_type": "stream",
     "text": [
      "Model 2 Accuracy Score: 0.773\n",
      "Model 2 Precision Score: 0.7742\n",
      "Model 2 Recall Score: 0.773\n",
      "Model 2 F-1 Score: 0.7735\n"
     ]
    }
   ],
   "source": [
    "#Printing the scores for the first model\n",
    "print('Model 2 Accuracy Score: ' + str(round(logmod2_as, 4)))\n",
    "print('Model 2 Precision Score: ' + str(round(logmod2_ps, 4)))\n",
    "print('Model 2 Recall Score: ' + str(round(logmod2_rs, 4)))\n",
    "print('Model 2 F-1 Score: ' + str(round(logmod2_f1s, 4)))"
   ]
  },
  {
   "cell_type": "code",
   "execution_count": 1282,
   "metadata": {},
   "outputs": [
    {
     "name": "stdout",
     "output_type": "stream",
     "text": [
      "Adding gender(female) to the model greatly increased the models classifying ability as it raised:\n",
      "Accuracy Score: + 0.051\n",
      "Precision Score: + 0.0232\n",
      "Recall score: + 0.051\n",
      "F-1 Score: + 0.1045\n"
     ]
    }
   ],
   "source": [
    "#Printing results of adding gender to the model\n",
    "print('Adding gender(female) to the model greatly increased the models classifying ability as it raised:\\nAccuracy Score: + ' + str(round(logmod2_as - logmod1_as, 4)) + '\\nPrecision Score: + ' + str(round(logmod2_ps - logmod1_ps, 4)) + '\\nRecall score: + ' + str(round(logmod2_rs - logmod1_rs, 4)) + '\\nF-1 Score: + ' + str(round(logmod2_f1s - logmod1_f1s, 4)))"
   ]
  },
  {
   "cell_type": "code",
   "execution_count": 1283,
   "metadata": {},
   "outputs": [
    {
     "data": {
      "text/plain": [
       "LogisticRegression(C=1.0, class_weight=None, dual=False, fit_intercept=True,\n",
       "          intercept_scaling=1, max_iter=100, multi_class='warn',\n",
       "          n_jobs=None, penalty='l2', random_state=None, solver='liblinear',\n",
       "          tol=0.0001, verbose=0, warm_start=False)"
      ]
     },
     "execution_count": 1283,
     "metadata": {},
     "output_type": "execute_result"
    }
   ],
   "source": [
    "#Adding Age columns to the second model to see if this improves the model\n",
    "classifying_column_names = ['Ticket_Fare(lbs)', 'Female', 'Age']\n",
    "\n",
    "#re-creating the Ys and Xs for the logistic regression model, and recreating the test and training sets\n",
    "Y = titanic[response_column_names]\n",
    "X = titanic[classifying_column_names]\n",
    "X_train, X_test, Y_train, Y_test = train_test_split(X,Y,test_size = 0.3, random_state=5)\n",
    "\n",
    "#Creating the logistic model using Age, Female and Ticket_Fare(lbs)\n",
    "logmod3 = LogisticRegression(solver='liblinear')\n",
    "logmod3.fit(X_train, Y_train.values.ravel())"
   ]
  },
  {
   "cell_type": "code",
   "execution_count": 1284,
   "metadata": {},
   "outputs": [],
   "source": [
    "#Making predictions with the Age, Female, and Ticket_Fare logistic model\n",
    "logmod3_predictions = logmod3.predict(X_test)"
   ]
  },
  {
   "cell_type": "code",
   "execution_count": 1285,
   "metadata": {},
   "outputs": [
    {
     "name": "stdout",
     "output_type": "stream",
     "text": [
      "Classification Report: \n",
      "              precision    recall  f1-score   support\n",
      "\n",
      "           0       0.83      0.82      0.83       256\n",
      "           1       0.67      0.68      0.68       136\n",
      "\n",
      "   micro avg       0.77      0.77      0.77       392\n",
      "   macro avg       0.75      0.75      0.75       392\n",
      "weighted avg       0.77      0.77      0.77       392\n",
      "\n",
      "\n",
      "Confusion Matrix: \n",
      "[[210  46]\n",
      " [ 43  93]]\n",
      "\n",
      "Accuracy Score: \n",
      "0.7729591836734694\n"
     ]
    }
   ],
   "source": [
    "#Printing classification report for third model\n",
    "print('Classification Report: ')\n",
    "print(classification_report(Y_test, logmod3_predictions))\n",
    "\n",
    "#Printing confusion matrix for third model\n",
    "print('\\nConfusion Matrix: ')\n",
    "print(confusion_matrix(Y_test, logmod3_predictions))\n",
    "\n",
    "#Printing the accuracy score for the third model\n",
    "print('\\nAccuracy Score: ')\n",
    "print(accuracy_score(Y_test, logmod3_predictions))"
   ]
  },
  {
   "cell_type": "code",
   "execution_count": 1286,
   "metadata": {},
   "outputs": [
    {
     "name": "stdout",
     "output_type": "stream",
     "text": [
      "Just by looking at the confusion matrix of the third model and the confusion matrix from the second model \n",
      "it is apparent that the second model is just as good as the third model without the need for a third categorizing variable\n"
     ]
    }
   ],
   "source": [
    "#Notes about model 3\n",
    "print('Just by looking at the confusion matrix of the third model and the confusion matrix from the second model \\nit is apparent that the second model is just as good as the third model without the need for a third categorizing variable')"
   ]
  },
  {
   "cell_type": "code",
   "execution_count": 1287,
   "metadata": {},
   "outputs": [
    {
     "data": {
      "text/plain": [
       "LogisticRegression(C=1.0, class_weight=None, dual=False, fit_intercept=True,\n",
       "          intercept_scaling=1, max_iter=100, multi_class='warn',\n",
       "          n_jobs=None, penalty='l2', random_state=None, solver='liblinear',\n",
       "          tol=0.0001, verbose=0, warm_start=False)"
      ]
     },
     "execution_count": 1287,
     "metadata": {},
     "output_type": "execute_result"
    }
   ],
   "source": [
    "#The fourth logistic model will use Ticket_Fare, Female, and Alone\n",
    "classifying_column_names = ['Ticket_Fare(lbs)', 'Female', 'Alone']\n",
    "\n",
    "#re-creating the Ys and Xs for the logistic regression model, and recreating the test and training sets\n",
    "Y = titanic[response_column_names]\n",
    "X = titanic[classifying_column_names]\n",
    "X_train, X_test, Y_train, Y_test = train_test_split(X,Y,test_size = 0.3, random_state=5)\n",
    "\n",
    "#Creating the logistic model using Alone, Female and Ticket_Fare(lbs)\n",
    "logmod4 = LogisticRegression(solver='liblinear')\n",
    "logmod4.fit(X_train, Y_train.values.ravel())\n"
   ]
  },
  {
   "cell_type": "code",
   "execution_count": 1288,
   "metadata": {},
   "outputs": [],
   "source": [
    "#Making predictions with the Alone, Female, and Ticket_Fare logistic model\n",
    "logmod4_predictions = logmod4.predict(X_test)"
   ]
  },
  {
   "cell_type": "code",
   "execution_count": 1289,
   "metadata": {},
   "outputs": [
    {
     "name": "stdout",
     "output_type": "stream",
     "text": [
      "Classification Report: \n",
      "              precision    recall  f1-score   support\n",
      "\n",
      "           0       0.83      0.82      0.83       256\n",
      "           1       0.67      0.68      0.68       136\n",
      "\n",
      "   micro avg       0.77      0.77      0.77       392\n",
      "   macro avg       0.75      0.75      0.75       392\n",
      "weighted avg       0.77      0.77      0.77       392\n",
      "\n",
      "\n",
      "Confusion Matrix: \n",
      "[[210  46]\n",
      " [ 43  93]]\n",
      "\n",
      "Accuracy Score: \n",
      "0.7729591836734694\n"
     ]
    }
   ],
   "source": [
    "#Printing classification report for third model\n",
    "print('Classification Report: ')\n",
    "print(classification_report(Y_test, logmod4_predictions))\n",
    "\n",
    "#Printing confusion matrix for third model\n",
    "print('\\nConfusion Matrix: ')\n",
    "print(confusion_matrix(Y_test, logmod4_predictions))\n",
    "\n",
    "#Printing the accuracy score for the third model\n",
    "print('\\nAccuracy Score: ')\n",
    "print(accuracy_score(Y_test, logmod4_predictions))"
   ]
  },
  {
   "cell_type": "code",
   "execution_count": 1290,
   "metadata": {},
   "outputs": [
    {
     "name": "stdout",
     "output_type": "stream",
     "text": [
      "Again, no new classification power has come from adding the new column so the best model without \n",
      "interaction variables is the model with Female and Ticket_Fare(lbs)\n"
     ]
    }
   ],
   "source": [
    "#Notes about the fourth model\n",
    "print('Again, no new classification power has come from adding the new column so the best model without \\ninteraction variables is the model with Female and Ticket_Fare(lbs)')"
   ]
  },
  {
   "cell_type": "code",
   "execution_count": 1291,
   "metadata": {},
   "outputs": [
    {
     "name": "stdout",
     "output_type": "stream",
     "text": [
      "Second Logistic Model: Odds[Survived] = -1.579 + 0.007(Ticket_Fare) + 2.357(Female)\n"
     ]
    }
   ],
   "source": [
    "#The Best Model (Without Interaction Classifiers)\n",
    "logmod2_intercept = logmod2.intercept_[0] #Model Intercept\n",
    "logmod2_ticket_fare_coef = logmod2.coef_[0][0] #Model ticket fare coefficient\n",
    "logmod2_female_coef = logmod2.coef_[0][1] #Model is female coefficient\n",
    "print('Second Logistic Model: Odds[Survived] = ' + str(round(logmod2_intercept, 3)) + ' + ' + str(round(logmod2_ticket_fare_coef, 3)) + '(Ticket_Fare) + ' + str(round(logmod2_female_coef, 3)) + '(Female)')"
   ]
  },
  {
   "cell_type": "code",
   "execution_count": 1292,
   "metadata": {},
   "outputs": [
    {
     "name": "stdout",
     "output_type": "stream",
     "text": [
      "odds(Ticket_Fare) predicting survival = e^(0.007) = 1.0073\n",
      "odds(Female) predicting survival = e^(2.357) = 10.5578\n",
      "\n",
      "From these odds that came from the model we can say two things about our classifying varaibles:\n",
      "- With gender held constant, each 1 lb increase in ticket fare would result in a 0.7% increase to the odds of survival\n",
      "- Being female on the titanic would result in a 955.78%  increase to the odds of survival compared to a male who paid the same ticket fare\n"
     ]
    }
   ],
   "source": [
    "#Meaning of the model\n",
    "odds_ticket_fare = np.exp(logmod2_ticket_fare_coef)\n",
    "odds_female = np.exp(logmod2_female_coef)\n",
    "print('odds(Ticket_Fare) predicting survival = e^(' + str(round(logmod2_ticket_fare_coef, 3)) + ') = ' + str(round(odds_ticket_fare, 4)))\n",
    "print('odds(Female) predicting survival = e^(' + str(round(logmod2_female_coef, 3)) + ') = ' + str(round(odds_female, 4)))\n",
    "print('\\nFrom these odds that came from the model we can say two things about our classifying varaibles:')\n",
    "print('- With gender held constant, each 1 lb increase in ticket fare would result in a 0.7% increase to the odds of survival')\n",
    "print('- Being female on the titanic would result in a 955.78%  increase to the odds of survival compared to a male who paid the same ticket fare')"
   ]
  }
 ],
 "metadata": {
  "kernelspec": {
   "display_name": "Python 3",
   "language": "python",
   "name": "python3"
  },
  "language_info": {
   "codemirror_mode": {
    "name": "ipython",
    "version": 3
   },
   "file_extension": ".py",
   "mimetype": "text/x-python",
   "name": "python",
   "nbconvert_exporter": "python",
   "pygments_lexer": "ipython3",
   "version": "3.7.1"
  }
 },
 "nbformat": 4,
 "nbformat_minor": 2
}
